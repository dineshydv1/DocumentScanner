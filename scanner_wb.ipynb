{
 "cells": [
  {
   "cell_type": "markdown",
   "metadata": {},
   "source": [
    "# Article: Build Document Scanner using Computer Vision, OpenCV and Python"
   ]
  },
  {
   "cell_type": "markdown",
   "metadata": {},
   "source": [
    "## Step 1: Read the photograph or image:"
   ]
  },
  {
   "cell_type": "code",
   "execution_count": 1,
   "metadata": {},
   "outputs": [],
   "source": [
    "# import required libraries\n",
    "import numpy as np\n",
    "import cv2\n",
    "import imutils\n",
    "\n",
    "# parameter for image to scan/process\n",
    "#args_image = \"fuel_bill_to_scan.jpg\"\n",
    "args_image = \"fuel_bill1.jpg\"\n",
    "\n",
    "# read the image\n",
    "image = cv2.imread(args_image)\n",
    "orig = image.copy()\n",
    "\n",
    "# show the original image\n",
    "cv2.imshow(\"Original Image\", image)\n",
    "cv2.waitKey(0) # press 0 to close all cv2 windows\n",
    "cv2.destroyAllWindows()\n"
   ]
  },
  {
   "cell_type": "markdown",
   "metadata": {},
   "source": [
    "## Step 2: Identify the edges:"
   ]
  },
  {
   "cell_type": "code",
   "execution_count": 12,
   "metadata": {},
   "outputs": [],
   "source": [
    "# converted image from RGB to gray scale. This will remove any color noise\n",
    "grayImage = cv2.cvtColor(image, cv2.COLOR_BGR2GRAY)\n",
    "\n",
    "# blur the image to remove high frequency noise \n",
    "# it helps in finding/detecting contour in gray image\n",
    "grayImageBlur = cv2.blur(grayImage,(3,3)) \n",
    "\n",
    "# then we performed canny edge detection\n",
    "edgedImage = cv2.Canny(grayImageBlur, 100, 300, 3)\n",
    "\n",
    "# show the gray and edge-detected image\n",
    "cv2.imshow(\"gray\", grayImage)\n",
    "cv2.imshow(\"grayBlur\", grayImageBlur)\n",
    "cv2.imshow(\"Edge Detected Image\", edgedImage)\n",
    "cv2.waitKey(0) # press 0 to close all cv2 windows\n",
    "cv2.destroyAllWindows()\n"
   ]
  },
  {
   "cell_type": "code",
   "execution_count": null,
   "metadata": {},
   "outputs": [],
   "source": []
  },
  {
   "cell_type": "markdown",
   "metadata": {},
   "source": [
    "## Step 3: Detect edges in the image:"
   ]
  },
  {
   "cell_type": "code",
   "execution_count": 13,
   "metadata": {},
   "outputs": [
    {
     "name": "stdout",
     "output_type": "stream",
     "text": [
      "[INFO]: Got document. Coordinates are:  [[[126 107]]\n",
      "\n",
      " [[ 66 699]]\n",
      "\n",
      " [[514 698]]\n",
      "\n",
      " [[444 129]]]\n"
     ]
    }
   ],
   "source": [
    "# find the contours in the edged image, sort area wise \n",
    "# keeping only the largest ones \n",
    "allContours = cv2.findContours(edgedImage.copy(), cv2.RETR_LIST, cv2.CHAIN_APPROX_SIMPLE)\n",
    "allContours = imutils.grab_contours(allContours)\n",
    "\n",
    "# descending sort contours area and keep top 1\n",
    "allContours = sorted(allContours, key=cv2.contourArea, reverse=True)[:1]\n",
    "\n",
    "# approximate the contour\n",
    "perimeter = cv2.arcLength(allContours[0], True) \n",
    "ROIdimensions = cv2.approxPolyDP(allContours[0], 0.02*perimeter, True)\n",
    "print(\"[INFO]: Got document. Coordinates are: \",ROIdimensions)\n",
    "\n",
    "# show the contour on image\n",
    "cv2.drawContours(image, [ROIdimensions], -1, (0,255,0), 2)\n",
    "cv2.imshow(\"Contour Outline\", image)\n",
    "cv2.waitKey(0)\n",
    "cv2.destroyAllWindows()"
   ]
  },
  {
   "cell_type": "code",
   "execution_count": null,
   "metadata": {},
   "outputs": [],
   "source": []
  },
  {
   "cell_type": "markdown",
   "metadata": {},
   "source": [
    "## Step 4: Identify and extract document boundary/edges:"
   ]
  },
  {
   "cell_type": "code",
   "execution_count": 14,
   "metadata": {},
   "outputs": [
    {
     "name": "stdout",
     "output_type": "stream",
     "text": [
      "[INFO]: Top-left corner: [126. 107.]  bottom-right corner: [514. 698.]\n",
      "[INFO]: Top-right corner: [444. 129.]  bottom-left corner: [ 66. 699.]\n",
      "[INFO]: Coordinates are:  [[126. 107.]\n",
      " [444. 129.]\n",
      " [514. 698.]\n",
      " [ 66. 699.]]\n",
      "[INFO]: Width of document is: 448\n",
      "[INFO]: Height of document is: 595\n"
     ]
    }
   ],
   "source": [
    "# reshape coordinates array\n",
    "ROIdimensions = ROIdimensions.reshape(4,2)\n",
    "\n",
    "# list to hold ROI coordinates\n",
    "rect = np.zeros((4,2), dtype=\"float32\")\n",
    "\n",
    "# top left corner will have the smallest sum, \n",
    "# bottom right corner will have the largest sum\n",
    "s = np.sum(ROIdimensions, axis=1)\n",
    "rect[0] = ROIdimensions[np.argmin(s)]\n",
    "rect[2] = ROIdimensions[np.argmax(s)]\n",
    "print(\"[INFO]: Top-left corner:\",rect[0],\" bottom-right corner:\",rect[2])\n",
    "\n",
    "# top-right will have smallest difference\n",
    "# botton left will have largest difference\n",
    "diff = np.diff(ROIdimensions, axis=1)\n",
    "rect[1] = ROIdimensions[np.argmin(diff)]\n",
    "rect[3] = ROIdimensions[np.argmax(diff)]\n",
    "print(\"[INFO]: Top-right corner:\",rect[1],\" bottom-left corner:\",rect[3])\n",
    "\n",
    "# display corner coordinates in order of \n",
    "# top-left, top-right, bottom-right, bottom-left\n",
    "print(\"[INFO]: Coordinates are: \",rect)\n",
    "(tl, tr, br, bl) = rect\n",
    "\n",
    "# compute width of ROI\n",
    "widthA = np.sqrt((tl[0] - tr[0])**2 + (tl[1] - tr[1])**2 )\n",
    "widthB = np.sqrt((bl[0] - br[0])**2 + (bl[1] - br[1])**2 )\n",
    "maxWidth = max(int(widthA), int(widthB))\n",
    "print(\"[INFO]: Width of document is:\",maxWidth)\n",
    "\n",
    "# compute height of ROI\n",
    "heightA = np.sqrt((tl[0] - bl[0])**2 + (tl[1] - bl[1])**2 )\n",
    "heightB = np.sqrt((tr[0] - br[0])**2 + (tr[1] - br[1])**2 )\n",
    "maxHeight = max(int(heightA), int(heightB))\n",
    "print(\"[INFO]: Height of document is:\",maxHeight)"
   ]
  },
  {
   "cell_type": "code",
   "execution_count": null,
   "metadata": {},
   "outputs": [],
   "source": []
  },
  {
   "cell_type": "markdown",
   "metadata": {},
   "source": [
    "## Step 5: Apply perspective transform:"
   ]
  },
  {
   "cell_type": "code",
   "execution_count": 18,
   "metadata": {},
   "outputs": [],
   "source": [
    "# Set of destinations points for \"birds eye view\"\n",
    "# dimension of the new image\n",
    "dst = np.array([\n",
    "    [0,0],\n",
    "    [maxWidth-1, 0],\n",
    "    [maxWidth-1, maxHeight-1],\n",
    "    [0, maxHeight-1]], dtype=\"float32\")\n",
    "\n",
    "# compute the perspective transform matrix and then apply it\n",
    "transformMatrix = cv2.getPerspectiveTransform(rect, dst)\n",
    "\n",
    "# transform ROI\n",
    "scan = cv2.warpPerspective(orig, transformMatrix, (maxWidth, maxHeight))\n",
    "\n",
    "# lets see the wraped document\n",
    "cv2.imshow(\"Scaned\",scan)\n",
    "cv2.waitKey(0)\n",
    "cv2.destroyAllWindows()"
   ]
  },
  {
   "cell_type": "code",
   "execution_count": null,
   "metadata": {},
   "outputs": [],
   "source": []
  },
  {
   "cell_type": "markdown",
   "metadata": {},
   "source": [
    "## Step 6: Final steps:"
   ]
  },
  {
   "cell_type": "code",
   "execution_count": 19,
   "metadata": {},
   "outputs": [],
   "source": [
    "# convert to gray\n",
    "scanGray = cv2.cvtColor(scan, cv2.COLOR_BGR2GRAY)\n",
    "\n",
    "# display final image\n",
    "cv2.imshow(\"scanGray\", scanGray)\n",
    "cv2.waitKey(0)\n",
    "cv2.destroyAllWindows()\n"
   ]
  },
  {
   "cell_type": "code",
   "execution_count": 20,
   "metadata": {},
   "outputs": [],
   "source": [
    "# convert to black/white with high contrast for documents\n",
    "from skimage.filters import threshold_local \n",
    "\n",
    "# increase contrast incase its document\n",
    "T = threshold_local(scanGray, 9, offset=8, method=\"gaussian\")\n",
    "scanBW = (scanGray > T).astype(\"uint8\") * 255\n",
    "\n",
    "cv2.imshow(\"warpedBW\", scanBW)\n",
    "cv2.waitKey(0)\n",
    "cv2.destroyAllWindows()"
   ]
  },
  {
   "cell_type": "code",
   "execution_count": null,
   "metadata": {},
   "outputs": [],
   "source": []
  },
  {
   "cell_type": "code",
   "execution_count": null,
   "metadata": {},
   "outputs": [],
   "source": []
  }
 ],
 "metadata": {
  "kernelspec": {
   "display_name": "Python 3",
   "language": "python",
   "name": "python3"
  },
  "language_info": {
   "codemirror_mode": {
    "name": "ipython",
    "version": 3
   },
   "file_extension": ".py",
   "mimetype": "text/x-python",
   "name": "python",
   "nbconvert_exporter": "python",
   "pygments_lexer": "ipython3",
   "version": "3.7.3"
  }
 },
 "nbformat": 4,
 "nbformat_minor": 2
}
